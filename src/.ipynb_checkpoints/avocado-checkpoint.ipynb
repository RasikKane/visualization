{
 "cells": [
  {
   "cell_type": "code",
   "execution_count": 6,
   "id": "9da91105",
   "metadata": {},
   "outputs": [],
   "source": [
    "import warnings\n",
    "warnings."
   ]
  },
  {
   "cell_type": "code",
   "execution_count": 4,
   "id": "1a859007",
   "metadata": {
    "scrolled": true
   },
   "outputs": [
    {
     "name": "stdout",
     "output_type": "stream",
     "text": [
      "Dash is running on http://127.0.0.1:8050/\n",
      "\n",
      "Dash is running on http://127.0.0.1:8050/\n",
      "\n",
      "Dash is running on http://127.0.0.1:8050/\n",
      "\n",
      " * Serving Flask app '__main__' (lazy loading)\n",
      " * Environment: production\n",
      "\u001b[31m   WARNING: This is a development server. Do not use it in a production deployment.\u001b[0m\n",
      "\u001b[2m   Use a production WSGI server instead.\u001b[0m\n",
      " * Debug mode: on\n"
     ]
    }
   ],
   "source": [
    "# Import libraries\n",
    "import dash\n",
    "import dash_html_components as html\n",
    "import dash_core_components as dcc\n",
    "from dash.dependencies import Input, Output\n",
    "import pandas as pd\n",
    "import plotly.express as px"
   ]
  },
  {
   "cell_type": "code",
   "execution_count": null,
   "id": "e390fef4",
   "metadata": {},
   "outputs": [],
   "source": [
    "# Load the dataset\n",
    "# https://www.kaggle.com/timmate/avocado-prices-2020\n",
    "\n",
    "avocado = pd.read_csv('../data/avocado-updated-2020.csv')\n",
    "\n",
    "# Create the Dash app\n",
    "app = dash.Dash()\n",
    "\n",
    "# Set up the app layout\n",
    "app.layout = html.Div(children=[\n",
    "    html.H1(children='Avocado Prices Dashboard'),\n",
    "    dcc.Dropdown(id='geo-dropdown',\n",
    "                 options=[{'label': i, 'value': i}\n",
    "                          for i in avocado['geography'].unique()],\n",
    "                 value='New York'),\n",
    "    dcc.Graph(id='price-graph')\n",
    "])\n",
    "\n",
    "\n",
    "# Set up the callback function\n",
    "@app.callback(\n",
    "    Output(component_id='price-graph', component_property='figure'),\n",
    "    Input(component_id='geo-dropdown', component_property='value')\n",
    ")\n",
    "def update_graph(selected_geography):\n",
    "    filtered_avocado = avocado[avocado['geography'] == selected_geography]\n",
    "    line_fig = px.line(filtered_avocado,\n",
    "                       x='date', y='average_price',\n",
    "                       color='type',\n",
    "                       title=f'Avocado Prices in {selected_geography}')\n",
    "    return line_fig\n",
    "\n",
    "\n",
    "# Run local server\n",
    "if __name__ == '__main__':\n",
    "    app.run_server(debug=True, use_reloader=False)"
   ]
  },
  {
   "cell_type": "code",
   "execution_count": null,
   "id": "21b78ce2",
   "metadata": {},
   "outputs": [],
   "source": []
  }
 ],
 "metadata": {
  "kernelspec": {
   "display_name": "viz_env",
   "language": "python",
   "name": "viz_env"
  },
  "language_info": {
   "codemirror_mode": {
    "name": "ipython",
    "version": 3
   },
   "file_extension": ".py",
   "mimetype": "text/x-python",
   "name": "python",
   "nbconvert_exporter": "python",
   "pygments_lexer": "ipython3",
   "version": "3.7.10"
  },
  "toc": {
   "base_numbering": 1,
   "nav_menu": {},
   "number_sections": true,
   "sideBar": true,
   "skip_h1_title": false,
   "title_cell": "Table of Contents",
   "title_sidebar": "Contents",
   "toc_cell": false,
   "toc_position": {},
   "toc_section_display": true,
   "toc_window_display": false
  }
 },
 "nbformat": 4,
 "nbformat_minor": 5
}
