{
 "cells": [
  {
   "cell_type": "markdown",
   "id": "37403df6",
   "metadata": {},
   "source": [
    "# Dashbaord for Avocado production"
   ]
  },
  {
   "cell_type": "code",
   "execution_count": 1,
   "id": "9da91105",
   "metadata": {},
   "outputs": [],
   "source": [
    "# Enable autocompletion use_jedising hinterland\n",
    "%config Completer.use_jedi = False"
   ]
  },
  {
   "cell_type": "code",
   "execution_count": 2,
   "id": "85b95e0e",
   "metadata": {},
   "outputs": [],
   "source": [
    "import warnings\n",
    "warnings.filterwarnings(action=\"ignore\")"
   ]
  },
  {
   "cell_type": "code",
   "execution_count": 3,
   "id": "1a859007",
   "metadata": {
    "scrolled": true
   },
   "outputs": [],
   "source": [
    "# Import libraries\n",
    "import dash\n",
    "import dash_html_components as html\n",
    "import dash_core_components as dcc\n",
    "from dash.dependencies import Input, Output\n",
    "import pandas as pd\n",
    "import plotly.express as px"
   ]
  },
  {
   "cell_type": "markdown",
   "id": "374f48e4",
   "metadata": {},
   "source": [
    "### Read Data"
   ]
  },
  {
   "cell_type": "code",
   "execution_count": 4,
   "id": "e390fef4",
   "metadata": {},
   "outputs": [],
   "source": [
    "# Load the dataset\n",
    "# https://www.kaggle.com/timmate/avocado-prices-2020\n",
    "\n",
    "avocado = pd.read_csv('../data/avocado-updated-2020.csv')"
   ]
  },
  {
   "cell_type": "markdown",
   "id": "9f4a97f4",
   "metadata": {},
   "source": [
    "### Define 4 board Layout"
   ]
  },
  {
   "cell_type": "code",
   "execution_count": null,
   "id": "21b78ce2",
   "metadata": {},
   "outputs": [
    {
     "name": "stdout",
     "output_type": "stream",
     "text": [
      "Dash is running on http://127.0.0.1:8050/\n",
      "\n",
      " * Serving Flask app '__main__' (lazy loading)\n",
      " * Environment: production\n",
      "\u001b[31m   WARNING: This is a development server. Do not use it in a production deployment.\u001b[0m\n",
      "\u001b[2m   Use a production WSGI server instead.\u001b[0m\n",
      " * Debug mode: on\n"
     ]
    }
   ],
   "source": [
    "# Create the Dash app\n",
    "app = dash.Dash()\n",
    "\n",
    "# Set up the app layout\n",
    "def createLayout(categories= avocado['geography'].unique(), \n",
    "                 default_val='New York', \n",
    "                 child='Avocado Prices Dashboard'):\n",
    "    app.layout = html.Div(children=[html.H1(children=child),\n",
    "                                    dcc.Dropdown(id='geo-dropdown',\n",
    "                                                 options=[{'label': i, 'value': i} for i in categories],\n",
    "                                                 value=default_val,\n",
    "                                                 clearable=False\n",
    "                                                ),\n",
    "                                    dcc.Graph(id='price-graph')\n",
    "                                   ]\n",
    "                         )\n",
    "\n",
    "\n",
    "# Set up the callback function\n",
    "@app.callback(\n",
    "    Output(component_id='price-graph', component_property='figure'),\n",
    "    Input(component_id='geo-dropdown', component_property='value')\n",
    ")\n",
    "def update_graph(selected_geography):\n",
    "    filtered_avocado = avocado[avocado['geography'] == selected_geography]\n",
    "    line_fig = px.line(filtered_avocado,\n",
    "                       x='date',\n",
    "                       y='average_price',\n",
    "                       color='type',\n",
    "                       title=f'Avocado Prices in {selected_geography}'\n",
    "                      )\n",
    "    return line_fig\n",
    "\n",
    "\n",
    "# Run local server\n",
    "if __name__ == '__main__':\n",
    "    createLayout()\n",
    "    app.run_server(debug=True, use_reloader=False)"
   ]
  },
  {
   "cell_type": "code",
   "execution_count": null,
   "id": "f693d36a",
   "metadata": {},
   "outputs": [],
   "source": []
  }
 ],
 "metadata": {
  "kernelspec": {
   "display_name": "viz_env",
   "language": "python",
   "name": "viz_env"
  },
  "language_info": {
   "codemirror_mode": {
    "name": "ipython",
    "version": 3
   },
   "file_extension": ".py",
   "mimetype": "text/x-python",
   "name": "python",
   "nbconvert_exporter": "python",
   "pygments_lexer": "ipython3",
   "version": "3.7.10"
  },
  "toc": {
   "base_numbering": "2",
   "nav_menu": {},
   "number_sections": false,
   "sideBar": true,
   "skip_h1_title": false,
   "title_cell": "Table of Contents",
   "title_sidebar": "Contents",
   "toc_cell": false,
   "toc_position": {},
   "toc_section_display": true,
   "toc_window_display": true
  }
 },
 "nbformat": 4,
 "nbformat_minor": 5
}
